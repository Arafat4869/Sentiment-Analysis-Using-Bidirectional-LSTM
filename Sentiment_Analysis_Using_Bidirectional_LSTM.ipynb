{
 "cells": [
  {
   "cell_type": "markdown",
   "metadata": {},
   "source": [
    "# Mounting Drive"
   ]
  },
  {
   "cell_type": "code",
   "execution_count": null,
   "metadata": {
    "colab": {
     "base_uri": "https://localhost:8080/"
    },
    "id": "vHrKfgKuVwQK",
    "outputId": "cea6f40e-63b2-443b-8ea6-8e4a20632dee",
    "scrolled": true
   },
   "outputs": [
    {
     "name": "stdout",
     "output_type": "stream",
     "text": [
      "Drive already mounted at /content/drive; to attempt to forcibly remount, call drive.mount(\"/content/drive\", force_remount=True).\n"
     ]
    }
   ],
   "source": [
    "from google.colab import drive\n",
    "drive.mount('/content/drive')"
   ]
  },
  {
   "cell_type": "markdown",
   "metadata": {},
   "source": [
    "# Importing Libraries"
   ]
  },
  {
   "cell_type": "code",
   "execution_count": null,
   "metadata": {
    "id": "cgkjQ16Fh6CW"
   },
   "outputs": [],
   "source": [
    "import numpy as np\n",
    "import pandas as pd\n",
    "import seaborn as sns\n",
    "import tensorflow as tf\n",
    "import matplotlib.pyplot as plt\n",
    "\n",
    "from keras.preprocessing.text import Tokenizer\n",
    "from keras.preprocessing.sequence import pad_sequences\n",
    "from keras.models import Sequential\n",
    "from keras import layers\n",
    "from keras import backend as K\n",
    "from keras.utils.vis_utils import plot_model"
   ]
  },
  {
   "cell_type": "markdown",
   "metadata": {},
   "source": [
    "# Reading Data From CSV File"
   ]
  },
  {
   "cell_type": "code",
   "execution_count": null,
   "metadata": {
    "colab": {
     "base_uri": "https://localhost:8080/",
     "height": 470
    },
    "id": "SjuJ89GDjhCz",
    "outputId": "e8ad8ee6-9131-4e93-8c04-11ba7d66c40b"
   },
   "outputs": [
    {
     "name": "stdout",
     "output_type": "stream",
     "text": [
      "0    8000\n",
      "1    2314\n",
      "Name: label, dtype: int64\n"
     ]
    },
    {
     "data": {
      "text/html": [
       "<div>\n",
       "<style scoped>\n",
       "    .dataframe tbody tr th:only-of-type {\n",
       "        vertical-align: middle;\n",
       "    }\n",
       "\n",
       "    .dataframe tbody tr th {\n",
       "        vertical-align: top;\n",
       "    }\n",
       "\n",
       "    .dataframe thead th {\n",
       "        text-align: right;\n",
       "    }\n",
       "</style>\n",
       "<table border=\"1\" class=\"dataframe\">\n",
       "  <thead>\n",
       "    <tr style=\"text-align: right;\">\n",
       "      <th></th>\n",
       "      <th>message</th>\n",
       "      <th>label</th>\n",
       "    </tr>\n",
       "  </thead>\n",
       "  <tbody>\n",
       "    <tr>\n",
       "      <th>0</th>\n",
       "      <td>#flylady Time to start the LAST WEEK OF SCHOOL...</td>\n",
       "      <td>0</td>\n",
       "    </tr>\n",
       "    <tr>\n",
       "      <th>1</th>\n",
       "      <td>go lucas &amp;amp; justine for the win tonight on ...</td>\n",
       "      <td>0</td>\n",
       "    </tr>\n",
       "    <tr>\n",
       "      <th>2</th>\n",
       "      <td>Missin a certain person,mmh.... memories,thos ...</td>\n",
       "      <td>0</td>\n",
       "    </tr>\n",
       "    <tr>\n",
       "      <th>3</th>\n",
       "      <td>@GlastoWatch thanks for that laugh! I do hope ...</td>\n",
       "      <td>0</td>\n",
       "    </tr>\n",
       "    <tr>\n",
       "      <th>4</th>\n",
       "      <td>@Corycm  HAHAHAHA You really MUST be cool then...</td>\n",
       "      <td>0</td>\n",
       "    </tr>\n",
       "    <tr>\n",
       "      <th>...</th>\n",
       "      <td>...</td>\n",
       "      <td>...</td>\n",
       "    </tr>\n",
       "    <tr>\n",
       "      <th>10309</th>\n",
       "      <td>@Medscape Higher Rates of Depression in Sexual...</td>\n",
       "      <td>1</td>\n",
       "    </tr>\n",
       "    <tr>\n",
       "      <th>10310</th>\n",
       "      <td>Celebrating a minor banking triumph (that's ba...</td>\n",
       "      <td>0</td>\n",
       "    </tr>\n",
       "    <tr>\n",
       "      <th>10311</th>\n",
       "      <td>@lilibthl You , fighting your depression  pic....</td>\n",
       "      <td>1</td>\n",
       "    </tr>\n",
       "    <tr>\n",
       "      <th>10312</th>\n",
       "      <td>@emkattt Personally, Red Rock Deli chips are a...</td>\n",
       "      <td>0</td>\n",
       "    </tr>\n",
       "    <tr>\n",
       "      <th>10313</th>\n",
       "      <td>@TheWineVault The &amp;quot;bring me for the inter...</td>\n",
       "      <td>0</td>\n",
       "    </tr>\n",
       "  </tbody>\n",
       "</table>\n",
       "<p>10314 rows × 2 columns</p>\n",
       "</div>"
      ],
      "text/plain": [
       "                                                 message  label\n",
       "0      #flylady Time to start the LAST WEEK OF SCHOOL...      0\n",
       "1      go lucas &amp; justine for the win tonight on ...      0\n",
       "2      Missin a certain person,mmh.... memories,thos ...      0\n",
       "3      @GlastoWatch thanks for that laugh! I do hope ...      0\n",
       "4      @Corycm  HAHAHAHA You really MUST be cool then...      0\n",
       "...                                                  ...    ...\n",
       "10309  @Medscape Higher Rates of Depression in Sexual...      1\n",
       "10310  Celebrating a minor banking triumph (that's ba...      0\n",
       "10311  @lilibthl You , fighting your depression  pic....      1\n",
       "10312  @emkattt Personally, Red Rock Deli chips are a...      0\n",
       "10313  @TheWineVault The &quot;bring me for the inter...      0\n",
       "\n",
       "[10314 rows x 2 columns]"
      ]
     },
     "execution_count": 3,
     "metadata": {},
     "output_type": "execute_result"
    }
   ],
   "source": [
    "data = pd.read_csv('/content/drive/MyDrive/4.2/CSE 4238/Assignment 3/Dataset 1.csv',engine = 'python')\n",
    "\n",
    "data = data.sample(frac = 1, random_state=21).reset_index(drop=True)\n",
    "\n",
    "print(data['label'].value_counts(0))\n",
    "data"
   ]
  },
  {
   "cell_type": "markdown",
   "metadata": {},
   "source": [
    "# Spliting Data"
   ]
  },
  {
   "cell_type": "code",
   "execution_count": null,
   "metadata": {
    "colab": {
     "base_uri": "https://localhost:8080/"
    },
    "id": "zAcuQB00ktEG",
    "outputId": "3e03e56f-ff10-4680-b764-765343bb8f20"
   },
   "outputs": [
    {
     "name": "stdout",
     "output_type": "stream",
     "text": [
      "0    4833\n",
      "1    1357\n",
      "Name: label, dtype: int64\n",
      "0    1587\n",
      "1     475\n",
      "Name: label, dtype: int64\n",
      "0    1580\n",
      "1     482\n",
      "Name: label, dtype: int64\n"
     ]
    }
   ],
   "source": [
    "split = int(0.2 *data.shape[0])\n",
    "\n",
    "test = data.iloc[-split:]\n",
    "valid = data.iloc[ -2 * split : -split]\n",
    "train = data.iloc[: -2 * split]\n",
    "\n",
    "print(train['label'].value_counts())\n",
    "# train\n",
    "\n",
    "print(valid['label'].value_counts())\n",
    "# validX\n",
    "\n",
    "print(test['label'].value_counts())\n",
    "# test"
   ]
  },
  {
   "cell_type": "markdown",
   "metadata": {},
   "source": [
    "# Converting all data to Numpy Array"
   ]
  },
  {
   "cell_type": "code",
   "execution_count": null,
   "metadata": {
    "colab": {
     "base_uri": "https://localhost:8080/"
    },
    "id": "npehkAkFplDy",
    "outputId": "37e86ef5-1b7b-47eb-82a0-aa40adf138b3"
   },
   "outputs": [
    {
     "name": "stdout",
     "output_type": "stream",
     "text": [
      "(6190,)\n",
      "(6190,)\n",
      "(2062,)\n",
      "(2062,)\n",
      "(2062,)\n",
      "(2062,)\n"
     ]
    }
   ],
   "source": [
    "trainX = np.array(train.iloc[:, 0])\n",
    "trainY = np.array(train.iloc[:, 1])\n",
    "\n",
    "print(trainX.shape)\n",
    "print(trainY.shape)\n",
    "# print(trainX)\n",
    "# print(trainY)\n",
    "\n",
    "validX = np.array(valid.iloc[:,0])\n",
    "validY = np.array(valid.iloc[:,1])\n",
    "\n",
    "print(validX.shape)\n",
    "print(validY.shape)\n",
    "# print(validX)\n",
    "# print(validY)\n",
    "\n",
    "testX = np.array(test.iloc[:,0])\n",
    "testY = np.array(test.iloc[:,1])\n",
    "\n",
    "print(testX.shape)\n",
    "print(testY.shape)\n",
    "# print(testX)\n",
    "# print(testY)"
   ]
  },
  {
   "cell_type": "markdown",
   "metadata": {},
   "source": [
    "# Stemming"
   ]
  },
  {
   "cell_type": "code",
   "execution_count": null,
   "metadata": {
    "id": "hDtmLN-Ngnpq"
   },
   "outputs": [],
   "source": [
    "# import nltk\n",
    "# import re\n",
    "\n",
    "# stemmer= nltk.stem.PorterStemmer()\n",
    "# X = []\n",
    "# for sentence in trainX:\n",
    "#     # Remove mentions (@username), all URLs, all hashtags.  (\\S+ matches with everything that is not a whitespace)\n",
    "#     sentence = re.sub(\"@\\S+|http\\S+|#\\S+\", \"\", str(sentence))\n",
    "#     #stemming\n",
    "#     temp = [stemmer.stem(word) for word in sentence]\n",
    "#     X.append(temp)\n",
    "\n",
    "# trainX = X"
   ]
  },
  {
   "cell_type": "markdown",
   "metadata": {},
   "source": [
    "# Tokenizing and Converting to Sequences"
   ]
  },
  {
   "cell_type": "code",
   "execution_count": null,
   "metadata": {
    "colab": {
     "base_uri": "https://localhost:8080/"
    },
    "id": "gz190-44rJx0",
    "outputId": "d716a3f1-831d-426f-dac1-b05f99b312b2"
   },
   "outputs": [
    {
     "name": "stdout",
     "output_type": "stream",
     "text": [
      "(6190, 84)\n",
      "(2062, 57)\n",
      "(2062, 67)\n"
     ]
    }
   ],
   "source": [
    "tokenizer = tf.keras.preprocessing.text.Tokenizer(num_words= 10000, filters= '!\"#$%&()*+,-./:;<=>?@[\\\\]^_`{|}~\\t\\n')\n",
    "\n",
    "tokenizer.fit_on_texts(trainX)\n",
    "\n",
    "train_seqs = tokenizer.texts_to_sequences(trainX)\n",
    "valid_seqs = tokenizer.texts_to_sequences(validX)\n",
    "test_seqs = tokenizer.texts_to_sequences(testX)\n",
    "\n",
    "train_seqs = tf.keras.preprocessing.sequence.pad_sequences(train_seqs)\n",
    "valid_seqs = tf.keras.preprocessing.sequence.pad_sequences(valid_seqs)\n",
    "test_seqs = tf.keras.preprocessing.sequence.pad_sequences(test_seqs)\n",
    "\n",
    "print(train_seqs.shape)\n",
    "print(valid_seqs.shape)\n",
    "print(test_seqs.shape)"
   ]
  },
  {
   "cell_type": "markdown",
   "metadata": {},
   "source": [
    "# Adding layers to the Model"
   ]
  },
  {
   "cell_type": "code",
   "execution_count": null,
   "metadata": {
    "colab": {
     "base_uri": "https://localhost:8080/",
     "height": 950
    },
    "id": "azoc52nt_IQM",
    "outputId": "f57e8b8e-aa68-42f4-b973-df6cfb4b7cb7"
   },
   "outputs": [
    {
     "name": "stdout",
     "output_type": "stream",
     "text": [
      "Model: \"sequential\"\n",
      "_________________________________________________________________\n",
      "Layer (type)                 Output Shape              Param #   \n",
      "=================================================================\n",
      "embedding (Embedding)        (None, None, 64)          1028160   \n",
      "_________________________________________________________________\n",
      "bidirectional (Bidirectional (None, None, 512)         657408    \n",
      "_________________________________________________________________\n",
      "bidirectional_1 (Bidirection (None, None, 256)         656384    \n",
      "_________________________________________________________________\n",
      "bidirectional_2 (Bidirection (None, 16)                16960     \n",
      "_________________________________________________________________\n",
      "dense (Dense)                (None, 1)                 17        \n",
      "=================================================================\n",
      "Total params: 2,358,929\n",
      "Trainable params: 2,358,929\n",
      "Non-trainable params: 0\n",
      "_________________________________________________________________\n"
     ]
    },
    {
     "data": {
      "image/png": "[encoded data removed]",
      "text/plain": [
       "<IPython.core.display.Image object>"
      ]
     },
     "execution_count": 8,
     "metadata": {},
     "output_type": "execute_result"
    }
   ],
   "source": [
    "model = Sequential()\n",
    "model.add(layers.Embedding(len(tokenizer.word_index), 64))\n",
    "model.add(layers.Bidirectional(layers.LSTM(256, return_sequences = True, dropout = 0.3)))\n",
    "model.add(layers.Bidirectional(layers.LSTM(128, return_sequences = True, dropout = 0.3)))\n",
    "model.add(layers.Bidirectional(layers.LSTM(8, dropout = 0.3)))\n",
    "model.add(layers.Dense(1, activation = 'sigmoid'))\n",
    "\n",
    "model.compile(loss = 'binary_crossentropy', optimizer = 'adam', metrics = ['accuracy'])\n",
    "\n",
    "model.summary()\n",
    "plot_model(model, to_file = 'model_plot.png', show_shapes = True, show_layer_names = True)"
   ]
  },
  {
   "cell_type": "markdown",
   "metadata": {},
   "source": [
    "# Train"
   ]
  },
  {
   "cell_type": "code",
   "execution_count": null,
   "metadata": {
    "colab": {
     "base_uri": "https://localhost:8080/"
    },
    "id": "ERNTn7K7BjMM",
    "outputId": "6fd4dbeb-0849-4089-9bf0-53a6e10eeda5",
    "scrolled": true
   },
   "outputs": [
    {
     "name": "stdout",
     "output_type": "stream",
     "text": [
      "Epoch 1/5\n",
      "194/194 [==============================] - 49s 198ms/step - loss: 0.2219 - accuracy: 0.9195 - val_loss: 0.0667 - val_accuracy: 0.9859\n",
      "Epoch 2/5\n",
      "194/194 [==============================] - 36s 185ms/step - loss: 0.0254 - accuracy: 0.9947 - val_loss: 0.0344 - val_accuracy: 0.9927\n",
      "Epoch 3/5\n",
      "194/194 [==============================] - 36s 185ms/step - loss: 0.0081 - accuracy: 0.9990 - val_loss: 0.0419 - val_accuracy: 0.9903\n",
      "Epoch 4/5\n",
      "194/194 [==============================] - 36s 184ms/step - loss: 0.0066 - accuracy: 0.9990 - val_loss: 0.0387 - val_accuracy: 0.9927\n",
      "Epoch 5/5\n",
      "194/194 [==============================] - 36s 185ms/step - loss: 0.0059 - accuracy: 0.9994 - val_loss: 0.0466 - val_accuracy: 0.9918\n"
     ]
    }
   ],
   "source": [
    "History = model.fit(train_seqs, trainY, epochs = 5, validation_data = (valid_seqs, validY), verbose = 'auto')"
   ]
  },
  {
   "cell_type": "markdown",
   "metadata": {},
   "source": [
    "# Plotting the accuracy and loss graph"
   ]
  },
  {
   "cell_type": "code",
   "execution_count": null,
   "metadata": {
    "colab": {
     "base_uri": "https://localhost:8080/",
     "height": 541
    },
    "id": "0vgERRgfWDeH",
    "outputId": "7d820209-208e-4084-836a-706bb68df4c2"
   },
   "outputs": [
    {
     "data": {
      "image/png": "[encoded data removed]",
      "text/plain": [
       "<Figure size 432x288 with 1 Axes>"
      ]
     },
     "metadata": {
      "needs_background": "light"
     },
     "output_type": "display_data"
    },
    {
     "data": {
      "image/png": "[encoded data removed]",
      "text/plain": [
       "<Figure size 432x288 with 1 Axes>"
      ]
     },
     "metadata": {
      "needs_background": "light"
     },
     "output_type": "display_data"
    }
   ],
   "source": [
    "plt.plot(History.history[\"accuracy\"])\n",
    "plt.plot(History.history[\"val_accuracy\"])\n",
    "plt.xlabel(\"Epochs\")\n",
    "plt.ylabel(\"accuracy\")\n",
    "plt.legend([\"accuracy\", \"val_accuracy\"])\n",
    "plt.show()\n",
    "\n",
    "plt.plot(History.history[\"loss\"])\n",
    "plt.plot(History.history[\"val_loss\"])\n",
    "plt.xlabel(\"Epochs\")\n",
    "plt.ylabel(\"Loss\")\n",
    "plt.legend([\"Loss\", \"val_loss\"])\n",
    "plt.show()"
   ]
  },
  {
   "cell_type": "markdown",
   "metadata": {},
   "source": [
    "# Importing Libraries to measure performance Scores"
   ]
  },
  {
   "cell_type": "code",
   "execution_count": null,
   "metadata": {
    "id": "qXnaaZBnIqFS"
   },
   "outputs": [],
   "source": [
    "from sklearn.metrics import accuracy_score\n",
    "from sklearn.metrics import precision_score\n",
    "from sklearn.metrics import recall_score\n",
    "from sklearn.metrics import f1_score\n",
    "from sklearn.metrics import confusion_matrix"
   ]
  },
  {
   "cell_type": "markdown",
   "metadata": {},
   "source": [
    "# Trainng Performance score"
   ]
  },
  {
   "cell_type": "code",
   "execution_count": null,
   "metadata": {
    "colab": {
     "base_uri": "https://localhost:8080/",
     "height": 401
    },
    "id": "oG_PSstsI-Ba",
    "outputId": "6dae802f-efcd-4334-907e-458217278d7c"
   },
   "outputs": [
    {
     "name": "stdout",
     "output_type": "stream",
     "text": [
      "194/194 [==============================] - 16s 72ms/step - loss: 0.0059 - accuracy: 0.9992\n",
      "Train Loss: 0.005908950697630644\n",
      "Train Accuracy: 0.9991922378540039 (Model Metric)\n",
      "Train Accuracy: 0.9991922455573505 (sklearn Metric)\n",
      "Train Precision: 0.9992614475627769\n",
      "Train Recall: 0.9970523212969786\n",
      "Train F1-score: 0.9981556621172998\n"
     ]
    },
    {
     "data": {
      "text/plain": [
       "<matplotlib.axes._subplots.AxesSubplot at 0x7f0bd005a450>"
      ]
     },
     "execution_count": 12,
     "metadata": {},
     "output_type": "execute_result"
    },
    {
     "data": {
      "image/png": "[encoded data removed]",
      "text/plain": [
       "<Figure size 432x288 with 2 Axes>"
      ]
     },
     "metadata": {
      "needs_background": "light"
     },
     "output_type": "display_data"
    }
   ],
   "source": [
    "y_pred = model.predict(train_seqs)\n",
    "\n",
    "y_pred = np.where(y_pred > 0.5, 1, 0)\n",
    "y_pred = np.reshape(y_pred, (y_pred.shape[0]))\n",
    "\n",
    "loss, accuracy = model.evaluate(train_seqs, trainY, verbose = 1)\n",
    "print('Train Loss:', loss)\n",
    "print('Train Accuracy:', accuracy, '(Model Metric)')\n",
    "print('Train Accuracy:', accuracy_score(trainY, y_pred), '(sklearn Metric)')\n",
    "print('Train Precision:', precision_score(trainY, y_pred))\n",
    "print('Train Recall:', recall_score(trainY, y_pred))\n",
    "print('Train F1-score:', f1_score(trainY, y_pred))\n",
    "\n",
    "sns.heatmap(confusion_matrix(trainY, y_pred), annot = True, fmt = 'g')"
   ]
  },
  {
   "cell_type": "markdown",
   "metadata": {},
   "source": [
    "# Validation Performance Scores"
   ]
  },
  {
   "cell_type": "code",
   "execution_count": null,
   "metadata": {
    "colab": {
     "base_uri": "https://localhost:8080/",
     "height": 401
    },
    "id": "d2AiYdKbRVHS",
    "outputId": "df93ab3b-08d8-4d3f-b36d-3ae3e26c1d52"
   },
   "outputs": [
    {
     "name": "stdout",
     "output_type": "stream",
     "text": [
      "65/65 [==============================] - 3s 51ms/step - loss: 0.0466 - accuracy: 0.9918\n",
      "Validation Loss: 0.04656500369310379\n",
      "Validation Accuracy: 0.9917556047439575 (Model Metric)\n",
      "Validation Accuracy: 0.9917555771096024 (sklearn Metric)\n",
      "Validation Precision: 0.9851694915254238\n",
      "Validation Recall: 0.9789473684210527\n",
      "Validation F1-score: 0.9820485744456178\n"
     ]
    },
    {
     "data": {
      "text/plain": [
       "<matplotlib.axes._subplots.AxesSubplot at 0x7f0b31cbba90>"
      ]
     },
     "execution_count": 13,
     "metadata": {},
     "output_type": "execute_result"
    },
    {
     "data": {
      "image/png": "[encoded data removed]",
      "text/plain": [
       "<Figure size 432x288 with 2 Axes>"
      ]
     },
     "metadata": {
      "needs_background": "light"
     },
     "output_type": "display_data"
    }
   ],
   "source": [
    "y_pred = model.predict(valid_seqs)\n",
    "\n",
    "y_pred = np.where(y_pred > 0.5, 1, 0)\n",
    "y_pred = np.reshape(y_pred, (y_pred.shape[0]))\n",
    "\n",
    "loss, accuracy = model.evaluate(valid_seqs, validY, verbose = 1)\n",
    "print('Validation Loss:', loss)\n",
    "print('Validation Accuracy:', accuracy, '(Model Metric)')\n",
    "print('Validation Accuracy:', accuracy_score(validY, y_pred), '(sklearn Metric)')\n",
    "print('Validation Precision:', precision_score(validY, y_pred))\n",
    "print('Validation Recall:', recall_score(validY, y_pred))\n",
    "print('Validation F1-score:', f1_score(validY, y_pred))\n",
    "\n",
    "sns.heatmap(confusion_matrix(validY, y_pred), annot = True, fmt = 'g')"
   ]
  },
  {
   "cell_type": "markdown",
   "metadata": {},
   "source": [
    "# Test Performance Scores"
   ]
  },
  {
   "cell_type": "code",
   "execution_count": null,
   "metadata": {
    "colab": {
     "base_uri": "https://localhost:8080/",
     "height": 401
    },
    "id": "Tu8YXSNzRxNq",
    "outputId": "a44ffc9f-ec06-4d5b-c7a8-fa3fb94b2082"
   },
   "outputs": [
    {
     "name": "stdout",
     "output_type": "stream",
     "text": [
      "65/65 [==============================] - 6s 60ms/step - loss: 0.0396 - accuracy: 0.9922\n",
      "Test Loss: 0.03962492197751999\n",
      "Test Accuracy: 0.9922405481338501 (Model Metric)\n",
      "Test Accuracy: 0.9922405431619786 (sklearn Metric)\n",
      "Test Precision: 0.981404958677686\n",
      "Test Recall: 0.9854771784232366\n",
      "Test F1-score: 0.9834368530020703\n"
     ]
    },
    {
     "data": {
      "text/plain": [
       "<matplotlib.axes._subplots.AxesSubplot at 0x7f0b341032d0>"
      ]
     },
     "execution_count": 14,
     "metadata": {},
     "output_type": "execute_result"
    },
    {
     "data": {
      "image/png": "[encoded data removed]",
      "text/plain": [
       "<Figure size 432x288 with 2 Axes>"
      ]
     },
     "metadata": {
      "needs_background": "light"
     },
     "output_type": "display_data"
    }
   ],
   "source": [
    "y_pred = model.predict(test_seqs)\n",
    "\n",
    "y_pred = np.where(y_pred > 0.5, 1, 0)\n",
    "y_pred = np.reshape(y_pred, (y_pred.shape[0]))\n",
    "\n",
    "loss, accuracy = model.evaluate(test_seqs, testY, verbose = 1)\n",
    "print('Test Loss:', loss)\n",
    "print('Test Accuracy:', accuracy, '(Model Metric)')\n",
    "print('Test Accuracy:', accuracy_score(testY, y_pred), '(sklearn Metric)')\n",
    "print('Test Precision:', precision_score(testY, y_pred))\n",
    "print('Test Recall:', recall_score(testY, y_pred))\n",
    "print('Test F1-score:', f1_score(testY, y_pred))\n",
    "\n",
    "sns.heatmap(confusion_matrix(testY, y_pred), annot = True, fmt = 'g')"
   ]
  }
 ],
 "metadata": {
  "accelerator": "GPU",
  "colab": {
   "collapsed_sections": [],
   "name": "Sentiment Analysis Using Bidirectional LSTM.ipynb",
   "provenance": []
  },
  "kernelspec": {
   "display_name": "Python 3 (ipykernel)",
   "language": "python",
   "name": "python3"
  },
  "language_info": {
   "codemirror_mode": {
    "name": "ipython",
    "version": 3
   },
   "file_extension": ".py",
   "mimetype": "text/x-python",
   "name": "python",
   "nbconvert_exporter": "python",
   "pygments_lexer": "ipython3",
   "version": "3.8.11"
  }
 },
 "nbformat": 4,
 "nbformat_minor": 1
}
